{
 "cells": [
  {
   "cell_type": "code",
   "execution_count": 1,
   "metadata": {},
   "outputs": [
    {
     "ename": "ModuleNotFoundError",
     "evalue": "No module named 'pandas'",
     "output_type": "error",
     "traceback": [
      "\u001b[0;31m---------------------------------------------------------------------------\u001b[0m",
      "\u001b[0;31mModuleNotFoundError\u001b[0m                       Traceback (most recent call last)",
      "\u001b[0;32m<ipython-input-1-654e9081497b>\u001b[0m in \u001b[0;36m<module>\u001b[0;34m\u001b[0m\n\u001b[1;32m      1\u001b[0m \u001b[0;32mimport\u001b[0m \u001b[0mhydra\u001b[0m\u001b[0;34m\u001b[0m\u001b[0;34m\u001b[0m\u001b[0m\n\u001b[1;32m      2\u001b[0m \u001b[0;32mimport\u001b[0m \u001b[0mmatplotlib\u001b[0m\u001b[0;34m.\u001b[0m\u001b[0mpyplot\u001b[0m \u001b[0;32mas\u001b[0m \u001b[0mplt\u001b[0m\u001b[0;34m\u001b[0m\u001b[0;34m\u001b[0m\u001b[0m\n\u001b[0;32m----> 3\u001b[0;31m \u001b[0;32mimport\u001b[0m \u001b[0mpandas\u001b[0m \u001b[0;32mas\u001b[0m \u001b[0mpd\u001b[0m\u001b[0;34m\u001b[0m\u001b[0;34m\u001b[0m\u001b[0m\n\u001b[0m",
      "\u001b[0;31mModuleNotFoundError\u001b[0m: No module named 'pandas'"
     ]
    }
   ],
   "source": [
    "import hydra\n",
    "import matplotlib.pyplot as plt\n",
    "import pandas as pd"
   ]
  },
  {
   "cell_type": "code",
   "execution_count": 3,
   "metadata": {},
   "outputs": [],
   "source": [
    "import os"
   ]
  },
  {
   "cell_type": "code",
   "execution_count": 8,
   "metadata": {},
   "outputs": [],
   "source": [
    "DIR = \"/home/ira/code/projects/rl_trickery/runs/2020.06.07/\""
   ]
  },
  {
   "cell_type": "code",
   "execution_count": 9,
   "metadata": {},
   "outputs": [
    {
     "name": "stdout",
     "output_type": "stream",
     "text": [
      "('/home/ira/code/projects/rl_trickery/runs/2020.06.07/', ['064917_agent=a2c', '064929_agent=a2c_rnn'], [])\n",
      "('/home/ira/code/projects/rl_trickery/runs/2020.06.07/064917_agent=a2c', ['.hydra', 'tb'], ['train.log', 'train.csv', 'eval.csv'])\n",
      "('/home/ira/code/projects/rl_trickery/runs/2020.06.07/064917_agent=a2c/.hydra', [], ['config.yaml', 'hydra.yaml', 'overrides.yaml'])\n",
      "('/home/ira/code/projects/rl_trickery/runs/2020.06.07/064917_agent=a2c/tb', [], ['events.out.tfevents.1591508959.ira-ThinkPad.44043.0'])\n",
      "('/home/ira/code/projects/rl_trickery/runs/2020.06.07/064929_agent=a2c_rnn', ['.hydra', 'tb'], ['train.log', 'train.csv', 'eval.csv'])\n",
      "('/home/ira/code/projects/rl_trickery/runs/2020.06.07/064929_agent=a2c_rnn/.hydra', [], ['config.yaml', 'hydra.yaml', 'overrides.yaml'])\n",
      "('/home/ira/code/projects/rl_trickery/runs/2020.06.07/064929_agent=a2c_rnn/tb', [], ['events.out.tfevents.1591508970.ira-ThinkPad.44136.0'])\n"
     ]
    }
   ],
   "source": [
    "for p in os.walk(DIR):\n",
    "    print(p)"
   ]
  },
  {
   "cell_type": "code",
   "execution_count": null,
   "metadata": {},
   "outputs": [],
   "source": []
  }
 ],
 "metadata": {
  "kernelspec": {
   "display_name": "Python 3",
   "language": "python",
   "name": "python3"
  },
  "language_info": {
   "codemirror_mode": {
    "name": "ipython",
    "version": 3
   },
   "file_extension": ".py",
   "mimetype": "text/x-python",
   "name": "python",
   "nbconvert_exporter": "python",
   "pygments_lexer": "ipython3",
   "version": "3.8.2"
  }
 },
 "nbformat": 4,
 "nbformat_minor": 4
}
