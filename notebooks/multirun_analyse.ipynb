{
 "cells": [
  {
   "cell_type": "code",
   "execution_count": 1,
   "metadata": {},
   "outputs": [],
   "source": [
    "import matplotlib.pyplot as plt\n",
    "import numpy as np\n",
    "import pandas as pd\n",
    "import yaml\n",
    "from omegaconf import OmegaConf"
   ]
  },
  {
   "cell_type": "code",
   "execution_count": 2,
   "metadata": {},
   "outputs": [],
   "source": [
    "import seaborn as sns\n",
    "sns.set_style(\"whitegrid\")"
   ]
  },
  {
   "cell_type": "code",
   "execution_count": 3,
   "metadata": {},
   "outputs": [],
   "source": [
    "import os"
   ]
  },
  {
   "cell_type": "code",
   "execution_count": 4,
   "metadata": {},
   "outputs": [],
   "source": [
    "import collections\n",
    "\n",
    "def flatten(d, parent_key='', sep='_'):\n",
    "    items = []\n",
    "    for k, v in d.items():\n",
    "        new_key = parent_key + sep + k if parent_key else k\n",
    "        if isinstance(v, collections.MutableMapping):\n",
    "            items.extend(flatten(v, new_key, sep=sep).items())\n",
    "        else:\n",
    "            items.append((new_key, v))\n",
    "    return dict(items)"
   ]
  },
  {
   "cell_type": "code",
   "execution_count": 5,
   "metadata": {},
   "outputs": [],
   "source": [
    "def value_rescale(x, eps=1.0e-3):\n",
    "    return np.sign(x) * (np.sqrt(np.abs(x) + 1.0) - 1.0) + eps * x"
   ]
  },
  {
   "cell_type": "code",
   "execution_count": 6,
   "metadata": {},
   "outputs": [],
   "source": [
    "# Good params on cart-pole from proprio\n",
    "# DIR = \"/home/ira/code/projects/rl_trickery/multirun/0_saved_experiments/long_ff_cart/\"\n",
    "\n",
    "# maze\n",
    "\n",
    "\n",
    "\n",
    "DIR = \"/home/ira/code/projects/rl_trickery/multirun/2020-06-18/\"\n",
    "\n",
    "# DIR = \"/home/ira/code/projects/rl_trickery/multirun/2020-06-16/20-38-12//\"\n"
   ]
  },
  {
   "cell_type": "code",
   "execution_count": 7,
   "metadata": {},
   "outputs": [],
   "source": [
    "# maze runs\n",
    "\n",
    "\n",
    "# maze11\n",
    "# random recurse depth\n",
    "DIR = \"/home/ira/code/projects/rl_trickery/multirun/000_proper_experiments/maze11-ff-rand-recurse/\"\n",
    "# DIR = \"/home/ira/code/projects/rl_trickery/multirun/000_proper_experiments/maze11-rnn-rand-recurse/\"\n",
    "# DIR = \"/home/ira/code/projects/rl_trickery/multirun/000_proper_experiments/maze11-crnn-rand-recurse/\"\n",
    "\n"
   ]
  },
  {
   "cell_type": "code",
   "execution_count": 8,
   "metadata": {},
   "outputs": [],
   "source": [
    "DIR = \"/home/ira/code/projects/rl_trickery/multirun/2020-06-18/11-41-17_crnn_append_acog_cp/\"\n"
   ]
  },
  {
   "cell_type": "code",
   "execution_count": 9,
   "metadata": {},
   "outputs": [
    {
     "ename": "FileNotFoundError",
     "evalue": "[Errno 2] No such file or directory: '/home/ira/code/projects/rl_trickery/multirun/2020-06-18/11-41-17_crnn_append_acog_cp/'",
     "output_type": "error",
     "traceback": [
      "\u001b[0;31m---------------------------------------------------------------------------\u001b[0m",
      "\u001b[0;31mFileNotFoundError\u001b[0m                         Traceback (most recent call last)",
      "\u001b[0;32m<ipython-input-9-ca1e6ee4519b>\u001b[0m in \u001b[0;36m<module>\u001b[0;34m\u001b[0m\n\u001b[0;32m----> 1\u001b[0;31m \u001b[0mruns\u001b[0m \u001b[0;34m=\u001b[0m \u001b[0msorted\u001b[0m\u001b[0;34m(\u001b[0m\u001b[0mos\u001b[0m\u001b[0;34m.\u001b[0m\u001b[0mlistdir\u001b[0m\u001b[0;34m(\u001b[0m\u001b[0mDIR\u001b[0m\u001b[0;34m)\u001b[0m\u001b[0;34m)\u001b[0m\u001b[0;34m\u001b[0m\u001b[0;34m\u001b[0m\u001b[0m\n\u001b[0m\u001b[1;32m      2\u001b[0m \u001b[0mruns\u001b[0m \u001b[0;34m=\u001b[0m \u001b[0;34m[\u001b[0m\u001b[0mrun\u001b[0m \u001b[0;32mfor\u001b[0m \u001b[0mrun\u001b[0m \u001b[0;32min\u001b[0m \u001b[0mruns\u001b[0m \u001b[0;32mif\u001b[0m \u001b[0;34m\".\"\u001b[0m \u001b[0;32mnot\u001b[0m \u001b[0;32min\u001b[0m \u001b[0mrun\u001b[0m\u001b[0;34m]\u001b[0m\u001b[0;34m\u001b[0m\u001b[0;34m\u001b[0m\u001b[0m\n\u001b[1;32m      3\u001b[0m \u001b[0mruns\u001b[0m\u001b[0;34m\u001b[0m\u001b[0;34m\u001b[0m\u001b[0m\n",
      "\u001b[0;31mFileNotFoundError\u001b[0m: [Errno 2] No such file or directory: '/home/ira/code/projects/rl_trickery/multirun/2020-06-18/11-41-17_crnn_append_acog_cp/'"
     ]
    }
   ],
   "source": [
    "runs = sorted(os.listdir(DIR))\n",
    "runs = [run for run in runs if \".\" not in run]\n",
    "runs"
   ]
  },
  {
   "cell_type": "code",
   "execution_count": null,
   "metadata": {},
   "outputs": [],
   "source": [
    "dfs = {}\n",
    "dfs_eval = {}\n",
    "overrides = {}\n",
    "configs = {}\n",
    "for run in runs:\n",
    "    f_eval = DIR + run + \"/eval.csv\"\n",
    "    f_train = DIR + run + \"/train.csv\"    \n",
    "    f_config = DIR + run + \"/.hydra/config.yaml\"    \n",
    "    f_override = DIR + run + \"/.hydra/overrides.yaml\"    \n",
    "    dfs[run] = pd.read_csv(f_train)\n",
    "    dfs_eval[run] = pd.read_csv(f_eval)\n",
    "    try:\n",
    "        with open(f_override) as file:\n",
    "            overrides[run] = yaml.load(file, Loader=yaml.FullLoader)\n",
    "    except FileNotFoundError:\n",
    "        overrides[run] = {}\n",
    "    try:\n",
    "        configs[run] = OmegaConf.load(f_config)\n",
    "    except FileNotFoundError:\n",
    "        configs[run] = {}\n",
    "        "
   ]
  },
  {
   "cell_type": "code",
   "execution_count": null,
   "metadata": {},
   "outputs": [],
   "source": [
    "scores = {}\n",
    "for run in runs:\n",
    "#     scores[run] = -dfs_eval[run][\"fraction_timeouts\"][-10:].mean()\n",
    "    scores[run] = dfs[run][\"episode_reward\"][-10:].mean()\n",
    "scores = pd.Series(scores)\n",
    "scores"
   ]
  },
  {
   "cell_type": "code",
   "execution_count": null,
   "metadata": {},
   "outputs": [],
   "source": [
    "rows = {}\n",
    "for key, arg in overrides.items():\n",
    "    row = {}\n",
    "    if type(arg) is list:\n",
    "        for s in arg:\n",
    "            col, val = s.split(\"=\")\n",
    "            row[col] = val\n",
    "        rows[key] = (pd.Series(row))\n",
    "results = pd.DataFrame(rows)\n",
    "results = results.append(scores.rename(\"score\"))\n",
    "results = results.T.sort_values(\"score\", ascending=False)"
   ]
  },
  {
   "cell_type": "code",
   "execution_count": null,
   "metadata": {},
   "outputs": [],
   "source": [
    "for key, config in configs.items():\n",
    "    configs[key] = flatten(config)\n",
    "full_results = pd.DataFrame(configs).append(scores.rename(\"score\")).T.sort_values(\"score\", ascending=False)"
   ]
  },
  {
   "cell_type": "code",
   "execution_count": null,
   "metadata": {},
   "outputs": [],
   "source": [
    "ax = None\n",
    "\n",
    "target_vars = [\n",
    "    \"episode_reward\",\n",
    "    \"fraction_timeouts\",\n",
    "]\n",
    "\n",
    "top_q = 0.0\n",
    "y_lim = None\n",
    "\n",
    "for target_var in target_vars:\n",
    "    ax = None\n",
    "    for key, df in dfs_eval.items():\n",
    "        if scores[key] < scores.quantile(top_q):\n",
    "            continue\n",
    "        if target_var in df.columns:\n",
    "            df = df.set_index(\"timestep\")[target_var]\n",
    "            df = df.rolling(3).mean()\n",
    "#             df = value_rescale(df)\n",
    "            ax = df.reset_index().plot(x=\"timestep\", y=target_var, label=key, ax=ax, figsize=(10,5), ylim=y_lim)\n",
    "#             ax = df.reset_index().plot(x=\"timestep\", y=target_var, label=key, ax=ax, figsize=(10,5))\n",
    "            plt.title(target_var)"
   ]
  },
  {
   "cell_type": "code",
   "execution_count": null,
   "metadata": {
    "scrolled": false
   },
   "outputs": [],
   "source": [
    "ax = None\n",
    "\n",
    "target_vars = [\n",
    "    \"episode_reward\",\n",
    "    \"loss_entropy\",\n",
    "    \"act\",\n",
    "    \"fps\",\n",
    "    \"episode\",\n",
    "    \"value\",\n",
    "]\n",
    "\n",
    "top_q = 0.0\n",
    "y_lim = None\n",
    "\n",
    "for target_var in target_vars:\n",
    "    ax = None\n",
    "    for key, df in dfs.items():\n",
    "        if scores[key] < scores.quantile(top_q):\n",
    "            continue\n",
    "        if target_var in df.columns:\n",
    "            df = df.set_index(\"timestep\")[target_var]\n",
    "            df = df.rolling(25).mean()\n",
    "#             df = value_rescale(df)\n",
    "            ax = df.reset_index().plot(x=\"timestep\", y=target_var, label=key, ax=ax, figsize=(10,5), ylim=y_lim)\n",
    "#             ax = df.reset_index().plot(x=\"timestep\", y=target_var, label=key, ax=ax, figsize=(10,5))\n",
    "            plt.title(target_var)"
   ]
  },
  {
   "cell_type": "code",
   "execution_count": null,
   "metadata": {},
   "outputs": [],
   "source": [
    "results"
   ]
  },
  {
   "cell_type": "code",
   "execution_count": null,
   "metadata": {},
   "outputs": [],
   "source": [
    "full_results"
   ]
  },
  {
   "cell_type": "code",
   "execution_count": null,
   "metadata": {},
   "outputs": [],
   "source": []
  },
  {
   "cell_type": "code",
   "execution_count": null,
   "metadata": {},
   "outputs": [],
   "source": []
  },
  {
   "cell_type": "code",
   "execution_count": null,
   "metadata": {},
   "outputs": [],
   "source": []
  }
 ],
 "metadata": {
  "kernelspec": {
   "display_name": "Python 3",
   "language": "python",
   "name": "python3"
  },
  "language_info": {
   "codemirror_mode": {
    "name": "ipython",
    "version": 3
   },
   "file_extension": ".py",
   "mimetype": "text/x-python",
   "name": "python",
   "nbconvert_exporter": "python",
   "pygments_lexer": "ipython3",
   "version": "3.8.0"
  }
 },
 "nbformat": 4,
 "nbformat_minor": 4
}
