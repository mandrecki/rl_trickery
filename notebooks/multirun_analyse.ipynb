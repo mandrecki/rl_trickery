{
 "cells": [
  {
   "cell_type": "code",
   "execution_count": 1,
   "metadata": {},
   "outputs": [],
   "source": [
    "import matplotlib.pyplot as plt\n",
    "import numpy as np\n",
    "import pandas as pd\n",
    "import yaml"
   ]
  },
  {
   "cell_type": "code",
   "execution_count": 2,
   "metadata": {},
   "outputs": [],
   "source": [
    "import seaborn as sns\n",
    "sns.set_style(\"whitegrid\")"
   ]
  },
  {
   "cell_type": "code",
   "execution_count": 3,
   "metadata": {},
   "outputs": [],
   "source": [
    "import os"
   ]
  },
  {
   "cell_type": "code",
   "execution_count": 4,
   "metadata": {},
   "outputs": [],
   "source": [
    "# DIR = \"../multirun/2020-06-07/20-51-14/\"\n",
    "DIR = \"/home/ira/code/projects/rl_trickery/multirun/2020-06-15/16-43-02//\"\n",
    "# DIR = \"/home/ira/code/projects/rl_trickery/runs/2020.06.11//\"\n",
    "\n",
    "# DIR = \"/home/ira/code/projects/rl_trickery/multirun/0_saved_experiments/low_recurse_depth_maze_13/\""
   ]
  },
  {
   "cell_type": "code",
   "execution_count": 5,
   "metadata": {},
   "outputs": [
    {
     "data": {
      "text/plain": [
       "['agent.algo_params.lr=0.0029749749416442157,agent.algo_params.optimizer_type=adam,agent.algo_params.use_timeout=false,agent.network_params.hidden_size=17,agent.num_envs=12,agent.num_steps=8_2',\n",
       " 'agent.algo_params.lr=0.0029860093695116305,agent.algo_params.optimizer_type=adam,agent.algo_params.use_timeout=true,agent.network_params.hidden_size=40,agent.num_envs=4,agent.num_steps=10_1',\n",
       " 'agent.algo_params.lr=0.006977898199424571,agent.algo_params.optimizer_type=rmsprop,agent.algo_params.use_timeout=true,agent.network_params.hidden_size=54,agent.num_envs=5,agent.num_steps=9_5',\n",
       " 'agent.algo_params.lr=0.009368838691960963,agent.algo_params.optimizer_type=adam,agent.algo_params.use_timeout=true,agent.network_params.hidden_size=12,agent.num_envs=15,agent.num_steps=9_3',\n",
       " 'agent.algo_params.lr=0.01,agent.algo_params.optimizer_type=rmsprop,agent.algo_params.use_timeout=true,agent.network_params.hidden_size=32,agent.num_envs=8,agent.num_steps=10_0',\n",
       " 'agent.algo_params.lr=0.01107713081412843,agent.algo_params.optimizer_type=adam,agent.algo_params.use_timeout=true,agent.network_params.hidden_size=50,agent.num_envs=7,agent.num_steps=7_9',\n",
       " 'agent.algo_params.lr=0.011752779414903785,agent.algo_params.optimizer_type=adam,agent.algo_params.use_timeout=false,agent.network_params.hidden_size=38,agent.num_envs=6,agent.num_steps=7_6',\n",
       " 'agent.algo_params.lr=0.011824009833911037,agent.algo_params.optimizer_type=rmsprop,agent.algo_params.use_timeout=false,agent.network_params.hidden_size=56,agent.num_envs=20,agent.num_steps=4_8',\n",
       " 'agent.algo_params.lr=0.011973827860147845,agent.algo_params.optimizer_type=adam,agent.algo_params.use_timeout=false,agent.network_params.hidden_size=37,agent.num_envs=4,agent.num_steps=8_11',\n",
       " 'agent.algo_params.lr=0.015173334410008326,agent.algo_params.optimizer_type=rmsprop,agent.algo_params.use_timeout=false,agent.network_params.hidden_size=26,agent.num_envs=5,agent.num_steps=7_4',\n",
       " 'agent.algo_params.lr=0.024116777759084506,agent.algo_params.optimizer_type=adam,agent.algo_params.use_timeout=false,agent.network_params.hidden_size=17,agent.num_envs=5,agent.num_steps=6_10',\n",
       " 'agent.algo_params.lr=0.06463923041448051,agent.algo_params.optimizer_type=adam,agent.algo_params.use_timeout=false,agent.network_params.hidden_size=20,agent.num_envs=2,agent.num_steps=7_7']"
      ]
     },
     "execution_count": 5,
     "metadata": {},
     "output_type": "execute_result"
    }
   ],
   "source": [
    "runs = sorted(os.listdir(DIR))\n",
    "runs"
   ]
  },
  {
   "cell_type": "code",
   "execution_count": 6,
   "metadata": {},
   "outputs": [
    {
     "ename": "FileNotFoundError",
     "evalue": "[Errno 2] No such file or directory: '/home/ira/code/projects/rl_trickery/multirun/2020-06-15/16-43-02//agent.algo_params.lr=0.011973827860147845,agent.algo_params.optimizer_type=adam,agent.algo_params.use_timeout=false,agent.network_params.hidden_size=37,agent.num_envs=4,agent.num_steps=8_11/.hydra/overrides.yaml'",
     "output_type": "error",
     "traceback": [
      "\u001b[0;31m---------------------------------------------------------------------------\u001b[0m",
      "\u001b[0;31mFileNotFoundError\u001b[0m                         Traceback (most recent call last)",
      "\u001b[0;32m<ipython-input-6-8a1c49861cbc>\u001b[0m in \u001b[0;36m<module>\u001b[0;34m\u001b[0m\n\u001b[1;32m      7\u001b[0m     \u001b[0mdf_run\u001b[0m \u001b[0;34m=\u001b[0m \u001b[0mpd\u001b[0m\u001b[0;34m.\u001b[0m\u001b[0mread_csv\u001b[0m\u001b[0;34m(\u001b[0m\u001b[0mf_train\u001b[0m\u001b[0;34m)\u001b[0m\u001b[0;34m\u001b[0m\u001b[0;34m\u001b[0m\u001b[0m\n\u001b[1;32m      8\u001b[0m     \u001b[0mdfs\u001b[0m\u001b[0;34m[\u001b[0m\u001b[0mrun\u001b[0m\u001b[0;34m]\u001b[0m \u001b[0;34m=\u001b[0m \u001b[0mdf_run\u001b[0m\u001b[0;34m\u001b[0m\u001b[0;34m\u001b[0m\u001b[0m\n\u001b[0;32m----> 9\u001b[0;31m     \u001b[0;32mwith\u001b[0m \u001b[0mopen\u001b[0m\u001b[0;34m(\u001b[0m\u001b[0mf_override\u001b[0m\u001b[0;34m)\u001b[0m \u001b[0;32mas\u001b[0m \u001b[0mfile\u001b[0m\u001b[0;34m:\u001b[0m\u001b[0;34m\u001b[0m\u001b[0;34m\u001b[0m\u001b[0m\n\u001b[0m\u001b[1;32m     10\u001b[0m         \u001b[0moverrides\u001b[0m\u001b[0;34m[\u001b[0m\u001b[0mrun\u001b[0m\u001b[0;34m]\u001b[0m \u001b[0;34m=\u001b[0m \u001b[0myaml\u001b[0m\u001b[0;34m.\u001b[0m\u001b[0mload\u001b[0m\u001b[0;34m(\u001b[0m\u001b[0mfile\u001b[0m\u001b[0;34m,\u001b[0m \u001b[0mLoader\u001b[0m\u001b[0;34m=\u001b[0m\u001b[0myaml\u001b[0m\u001b[0;34m.\u001b[0m\u001b[0mFullLoader\u001b[0m\u001b[0;34m)\u001b[0m\u001b[0;34m\u001b[0m\u001b[0;34m\u001b[0m\u001b[0m\n",
      "\u001b[0;31mFileNotFoundError\u001b[0m: [Errno 2] No such file or directory: '/home/ira/code/projects/rl_trickery/multirun/2020-06-15/16-43-02//agent.algo_params.lr=0.011973827860147845,agent.algo_params.optimizer_type=adam,agent.algo_params.use_timeout=false,agent.network_params.hidden_size=37,agent.num_envs=4,agent.num_steps=8_11/.hydra/overrides.yaml'"
     ]
    }
   ],
   "source": [
    "dfs = {}\n",
    "overrides = {}\n",
    "for run in runs:\n",
    "    f_eval = DIR + run + \"/eval.csv\"\n",
    "    f_train = DIR + run + \"/train.csv\"    \n",
    "    f_override = DIR + run + \"/.hydra/overrides.yaml\"    \n",
    "    df_run = pd.read_csv(f_train)\n",
    "    dfs[run] = df_run\n",
    "    try:\n",
    "        with open(f_override) as file:\n",
    "            overrides[run] = yaml.load(file, Loader=yaml.FullLoader)\n",
    "    except FileNotFoundError:\n",
    "            overrides[run] = 0\n",
    "        "
   ]
  },
  {
   "cell_type": "code",
   "execution_count": null,
   "metadata": {
    "scrolled": false
   },
   "outputs": [],
   "source": [
    "ax = None\n",
    "\n",
    "target_vars = [\n",
    "    \"episode_reward\",\n",
    "    \"loss_entropy\",\n",
    "    \"act\",\n",
    "    \"fps\",\n",
    "    \"episode\",\n",
    "    \"value\",\n",
    "]\n",
    "\n",
    "for i, ovr in enumerate(overrides):\n",
    "    print(i, ovr)\n",
    "for target_var in target_vars:\n",
    "    ax = None\n",
    "    for i, (key, df) in enumerate(dfs.items()):\n",
    "        if target_var in df.columns:\n",
    "            df = df.set_index(\"timestep\")[target_var]\n",
    "            df = df.rolling(10).mean()\n",
    "            ax = df.reset_index().plot(x=\"timestep\", y=target_var, label=i, ax=ax, figsize=(10,5))\n",
    "#             ax = df.reset_index().plot(x=\"timestep\", y=target_var, label=key, ax=ax, figsize=(10,5))\n",
    "            plt.title(target_var)"
   ]
  },
  {
   "cell_type": "code",
   "execution_count": null,
   "metadata": {},
   "outputs": [],
   "source": []
  },
  {
   "cell_type": "code",
   "execution_count": null,
   "metadata": {},
   "outputs": [],
   "source": []
  },
  {
   "cell_type": "code",
   "execution_count": null,
   "metadata": {},
   "outputs": [],
   "source": []
  }
 ],
 "metadata": {
  "kernelspec": {
   "display_name": "Python 3",
   "language": "python",
   "name": "python3"
  },
  "language_info": {
   "codemirror_mode": {
    "name": "ipython",
    "version": 3
   },
   "file_extension": ".py",
   "mimetype": "text/x-python",
   "name": "python",
   "nbconvert_exporter": "python",
   "pygments_lexer": "ipython3",
   "version": "3.8.0"
  }
 },
 "nbformat": 4,
 "nbformat_minor": 4
}
