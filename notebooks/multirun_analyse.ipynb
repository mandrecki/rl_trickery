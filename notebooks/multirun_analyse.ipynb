{
 "cells": [
  {
   "cell_type": "code",
   "execution_count": 1,
   "metadata": {},
   "outputs": [],
   "source": [
    "import matplotlib.pyplot as plt\n",
    "import numpy as np\n",
    "import pandas as pd\n",
    "import yaml\n",
    "from omegaconf import OmegaConf"
   ]
  },
  {
   "cell_type": "code",
   "execution_count": 2,
   "metadata": {},
   "outputs": [],
   "source": [
    "import seaborn as sns\n",
    "sns.set_style(\"whitegrid\")"
   ]
  },
  {
   "cell_type": "code",
   "execution_count": 3,
   "metadata": {},
   "outputs": [],
   "source": [
    "import os"
   ]
  },
  {
   "cell_type": "code",
   "execution_count": 4,
   "metadata": {},
   "outputs": [],
   "source": [
    "# Good params on cart-pole from proprio\n",
    "# DIR = \"/home/ira/code/projects/rl_trickery/multirun/0_saved_experiments/22-16-45-long_ff_cart/\"\n",
    "\n",
    "DIR = \"/home/ira/code/projects/rl_trickery/multirun/2020-06-16/07-41-08/\"\n"
   ]
  },
  {
   "cell_type": "code",
   "execution_count": 5,
   "metadata": {},
   "outputs": [
    {
     "data": {
      "text/plain": [
       "['0', '1']"
      ]
     },
     "execution_count": 5,
     "metadata": {},
     "output_type": "execute_result"
    }
   ],
   "source": [
    "runs = os.listdir(DIR)\n",
    "runs = sorted([int(run) for run in runs if \".\" not in run])\n",
    "runs = list(map(str, runs))\n",
    "runs"
   ]
  },
  {
   "cell_type": "code",
   "execution_count": 29,
   "metadata": {},
   "outputs": [],
   "source": [
    "dfs = {}\n",
    "overrides = {}\n",
    "configs = {}\n",
    "for run in runs:\n",
    "    f_eval = DIR + run + \"/eval.csv\"\n",
    "    f_train = DIR + run + \"/train.csv\"    \n",
    "    f_config = DIR + run + \"/.hydra/config.yaml\"    \n",
    "    f_override = DIR + run + \"/.hydra/overrides.yaml\"    \n",
    "    df_run = pd.read_csv(f_eval)\n",
    "    dfs[run] = df_run\n",
    "    try:\n",
    "        with open(f_override) as file:\n",
    "            overrides[run] = yaml.load(file, Loader=yaml.FullLoader)\n",
    "    except FileNotFoundError:\n",
    "        overrides[run] = {}\n",
    "    try:\n",
    "        configs[run] = OmegaConf.load(f_config)\n",
    "    except FileNotFoundError:\n",
    "        configs[run] = {}\n",
    "        "
   ]
  },
  {
   "cell_type": "code",
   "execution_count": 30,
   "metadata": {},
   "outputs": [],
   "source": [
    "scores = {}\n",
    "for run in runs:\n",
    "    scores[run] = dfs[run][\"episode_reward\"].mean()"
   ]
  },
  {
   "cell_type": "code",
   "execution_count": 31,
   "metadata": {},
   "outputs": [
    {
     "data": {
      "text/plain": [
       "0   -0.412260\n",
       "1   -2.618103\n",
       "dtype: float64"
      ]
     },
     "execution_count": 31,
     "metadata": {},
     "output_type": "execute_result"
    }
   ],
   "source": [
    "scores = pd.Series(scores)\n",
    "scores"
   ]
  },
  {
   "cell_type": "code",
   "execution_count": 32,
   "metadata": {
    "scrolled": false
   },
   "outputs": [
    {
     "data": {
      "image/png": "[encoded data removed]",
      "text/plain": [
       "<Figure size 720x360 with 1 Axes>"
      ]
     },
     "metadata": {},
     "output_type": "display_data"
    }
   ],
   "source": [
    "ax = None\n",
    "\n",
    "target_vars = [\n",
    "    \"episode_reward\",\n",
    "    \"loss_entropy\",\n",
    "    \"act\",\n",
    "    \"fps\",\n",
    "    \"episode\",\n",
    "    \"value\",\n",
    "]\n",
    "\n",
    "top_q = 0.0\n",
    "\n",
    "for target_var in target_vars:\n",
    "    ax = None\n",
    "    for key, df in dfs.items():\n",
    "        if scores[key] < scores.quantile(top_q):\n",
    "            continue\n",
    "        if target_var in df.columns:\n",
    "            df = df.set_index(\"timestep\")[target_var]\n",
    "            df = df.rolling(1).mean()\n",
    "            ax = df.reset_index().plot(x=\"timestep\", y=target_var, label=key, ax=ax, figsize=(10,5))\n",
    "#             ax = df.reset_index().plot(x=\"timestep\", y=target_var, label=key, ax=ax, figsize=(10,5))\n",
    "            plt.title(target_var)"
   ]
  },
  {
   "cell_type": "code",
   "execution_count": 33,
   "metadata": {},
   "outputs": [
    {
     "data": {
      "text/html": [
       "<div>\n",
       "<style scoped>\n",
       "    .dataframe tbody tr th:only-of-type {\n",
       "        vertical-align: middle;\n",
       "    }\n",
       "\n",
       "    .dataframe tbody tr th {\n",
       "        vertical-align: top;\n",
       "    }\n",
       "\n",
       "    .dataframe thead th {\n",
       "        text-align: right;\n",
       "    }\n",
       "</style>\n",
       "<table border=\"1\" class=\"dataframe\">\n",
       "  <thead>\n",
       "    <tr style=\"text-align: right;\">\n",
       "      <th></th>\n",
       "      <th>agent</th>\n",
       "      <th>env</th>\n",
       "      <th>seed</th>\n",
       "      <th>agent.num_steps</th>\n",
       "      <th>agent.algo_params.use_timeout</th>\n",
       "      <th>agent.algo_params.optimizer_type</th>\n",
       "      <th>agent.algo_params.lr</th>\n",
       "      <th>agent.algo_params.max_grad_norm</th>\n",
       "      <th>agent.num_envs</th>\n",
       "      <th>agent.network_params.state_channels</th>\n",
       "      <th>score</th>\n",
       "    </tr>\n",
       "  </thead>\n",
       "  <tbody>\n",
       "    <tr>\n",
       "      <th>0</th>\n",
       "      <td>a2c_image</td>\n",
       "      <td>mazelab</td>\n",
       "      <td>500000</td>\n",
       "      <td>12</td>\n",
       "      <td>true</td>\n",
       "      <td>adam</td>\n",
       "      <td>0.001</td>\n",
       "      <td>0.31622776601683794</td>\n",
       "      <td>6</td>\n",
       "      <td>32</td>\n",
       "      <td>-0.41226</td>\n",
       "    </tr>\n",
       "    <tr>\n",
       "      <th>1</th>\n",
       "      <td>NaN</td>\n",
       "      <td>NaN</td>\n",
       "      <td>NaN</td>\n",
       "      <td>NaN</td>\n",
       "      <td>NaN</td>\n",
       "      <td>NaN</td>\n",
       "      <td>NaN</td>\n",
       "      <td>NaN</td>\n",
       "      <td>NaN</td>\n",
       "      <td>NaN</td>\n",
       "      <td>-2.6181</td>\n",
       "    </tr>\n",
       "  </tbody>\n",
       "</table>\n",
       "</div>"
      ],
      "text/plain": [
       "       agent      env    seed agent.num_steps agent.algo_params.use_timeout  \\\n",
       "0  a2c_image  mazelab  500000              12                          true   \n",
       "1        NaN      NaN     NaN             NaN                           NaN   \n",
       "\n",
       "  agent.algo_params.optimizer_type agent.algo_params.lr  \\\n",
       "0                             adam                0.001   \n",
       "1                              NaN                  NaN   \n",
       "\n",
       "  agent.algo_params.max_grad_norm agent.num_envs  \\\n",
       "0             0.31622776601683794              6   \n",
       "1                             NaN            NaN   \n",
       "\n",
       "  agent.network_params.state_channels    score  \n",
       "0                                  32 -0.41226  \n",
       "1                                 NaN  -2.6181  "
      ]
     },
     "execution_count": 33,
     "metadata": {},
     "output_type": "execute_result"
    }
   ],
   "source": [
    "rows = {}\n",
    "for key, arg in overrides.items():\n",
    "    row = {}\n",
    "    if type(arg) is list:\n",
    "        for s in arg:\n",
    "            col, val = s.split(\"=\")\n",
    "            row[col] = val\n",
    "        rows[key] = (pd.Series(row))\n",
    "results = pd.DataFrame(rows)\n",
    "results = results.append(scores.rename(\"score\"))\n",
    "results = results.T.sort_values(\"score\", ascending=False)\n",
    "results"
   ]
  },
  {
   "cell_type": "code",
   "execution_count": 34,
   "metadata": {},
   "outputs": [],
   "source": [
    "import collections\n",
    "\n",
    "def flatten(d, parent_key='', sep='_'):\n",
    "    items = []\n",
    "    for k, v in d.items():\n",
    "        new_key = parent_key + sep + k if parent_key else k\n",
    "        if isinstance(v, collections.MutableMapping):\n",
    "            items.extend(flatten(v, new_key, sep=sep).items())\n",
    "        else:\n",
    "            items.append((new_key, v))\n",
    "    return dict(items)"
   ]
  },
  {
   "cell_type": "code",
   "execution_count": 35,
   "metadata": {},
   "outputs": [
    {
     "data": {
      "text/plain": [
       "{'0': ['agent=a2c_image',\n",
       "  'env=mazelab',\n",
       "  'seed=500000',\n",
       "  'agent.num_steps=12',\n",
       "  'agent.algo_params.use_timeout=true',\n",
       "  'agent.algo_params.optimizer_type=adam',\n",
       "  'agent.algo_params.lr=0.001',\n",
       "  'agent.algo_params.max_grad_norm=0.31622776601683794',\n",
       "  'agent.num_envs=6',\n",
       "  'agent.network_params.state_channels=32'],\n",
       " '1': {}}"
      ]
     },
     "execution_count": 35,
     "metadata": {},
     "output_type": "execute_result"
    }
   ],
   "source": [
    "overrides"
   ]
  },
  {
   "cell_type": "code",
   "execution_count": 36,
   "metadata": {},
   "outputs": [
    {
     "ename": "AttributeError",
     "evalue": "'list' object has no attribute 'items'",
     "output_type": "error",
     "traceback": [
      "\u001b[0;31m---------------------------------------------------------------------------\u001b[0m",
      "\u001b[0;31mAttributeError\u001b[0m                            Traceback (most recent call last)",
      "\u001b[0;32m<ipython-input-36-33ab16469c4a>\u001b[0m in \u001b[0;36m<module>\u001b[0;34m\u001b[0m\n\u001b[1;32m      1\u001b[0m \u001b[0;32mfor\u001b[0m \u001b[0mkey\u001b[0m\u001b[0;34m,\u001b[0m \u001b[0mconfig\u001b[0m \u001b[0;32min\u001b[0m \u001b[0moverrides\u001b[0m\u001b[0;34m.\u001b[0m\u001b[0mitems\u001b[0m\u001b[0;34m(\u001b[0m\u001b[0;34m)\u001b[0m\u001b[0;34m:\u001b[0m\u001b[0;34m\u001b[0m\u001b[0;34m\u001b[0m\u001b[0m\n\u001b[0;32m----> 2\u001b[0;31m     \u001b[0moverrides\u001b[0m\u001b[0;34m[\u001b[0m\u001b[0mkey\u001b[0m\u001b[0;34m]\u001b[0m \u001b[0;34m=\u001b[0m \u001b[0mflatten\u001b[0m\u001b[0;34m(\u001b[0m\u001b[0mconfig\u001b[0m\u001b[0;34m)\u001b[0m\u001b[0;34m\u001b[0m\u001b[0;34m\u001b[0m\u001b[0m\n\u001b[0m\u001b[1;32m      3\u001b[0m \u001b[0mresults\u001b[0m \u001b[0;34m=\u001b[0m \u001b[0mpd\u001b[0m\u001b[0;34m.\u001b[0m\u001b[0mDataFrame\u001b[0m\u001b[0;34m(\u001b[0m\u001b[0mconfigs\u001b[0m\u001b[0;34m)\u001b[0m\u001b[0;34m.\u001b[0m\u001b[0mappend\u001b[0m\u001b[0;34m(\u001b[0m\u001b[0mscores\u001b[0m\u001b[0;34m.\u001b[0m\u001b[0mrename\u001b[0m\u001b[0;34m(\u001b[0m\u001b[0;34m\"score\"\u001b[0m\u001b[0;34m)\u001b[0m\u001b[0;34m)\u001b[0m\u001b[0;34m.\u001b[0m\u001b[0mT\u001b[0m\u001b[0;34m.\u001b[0m\u001b[0msort_values\u001b[0m\u001b[0;34m(\u001b[0m\u001b[0;34m\"score\"\u001b[0m\u001b[0;34m,\u001b[0m \u001b[0mascending\u001b[0m\u001b[0;34m=\u001b[0m\u001b[0;32mFalse\u001b[0m\u001b[0;34m)\u001b[0m\u001b[0;34m\u001b[0m\u001b[0;34m\u001b[0m\u001b[0m\n\u001b[1;32m      4\u001b[0m \u001b[0mresults\u001b[0m\u001b[0;34m\u001b[0m\u001b[0;34m\u001b[0m\u001b[0m\n",
      "\u001b[0;32m<ipython-input-34-72a859df90ce>\u001b[0m in \u001b[0;36mflatten\u001b[0;34m(d, parent_key, sep)\u001b[0m\n\u001b[1;32m      3\u001b[0m \u001b[0;32mdef\u001b[0m \u001b[0mflatten\u001b[0m\u001b[0;34m(\u001b[0m\u001b[0md\u001b[0m\u001b[0;34m,\u001b[0m \u001b[0mparent_key\u001b[0m\u001b[0;34m=\u001b[0m\u001b[0;34m''\u001b[0m\u001b[0;34m,\u001b[0m \u001b[0msep\u001b[0m\u001b[0;34m=\u001b[0m\u001b[0;34m'_'\u001b[0m\u001b[0;34m)\u001b[0m\u001b[0;34m:\u001b[0m\u001b[0;34m\u001b[0m\u001b[0;34m\u001b[0m\u001b[0m\n\u001b[1;32m      4\u001b[0m     \u001b[0mitems\u001b[0m \u001b[0;34m=\u001b[0m \u001b[0;34m[\u001b[0m\u001b[0;34m]\u001b[0m\u001b[0;34m\u001b[0m\u001b[0;34m\u001b[0m\u001b[0m\n\u001b[0;32m----> 5\u001b[0;31m     \u001b[0;32mfor\u001b[0m \u001b[0mk\u001b[0m\u001b[0;34m,\u001b[0m \u001b[0mv\u001b[0m \u001b[0;32min\u001b[0m \u001b[0md\u001b[0m\u001b[0;34m.\u001b[0m\u001b[0mitems\u001b[0m\u001b[0;34m(\u001b[0m\u001b[0;34m)\u001b[0m\u001b[0;34m:\u001b[0m\u001b[0;34m\u001b[0m\u001b[0;34m\u001b[0m\u001b[0m\n\u001b[0m\u001b[1;32m      6\u001b[0m         \u001b[0mnew_key\u001b[0m \u001b[0;34m=\u001b[0m \u001b[0mparent_key\u001b[0m \u001b[0;34m+\u001b[0m \u001b[0msep\u001b[0m \u001b[0;34m+\u001b[0m \u001b[0mk\u001b[0m \u001b[0;32mif\u001b[0m \u001b[0mparent_key\u001b[0m \u001b[0;32melse\u001b[0m \u001b[0mk\u001b[0m\u001b[0;34m\u001b[0m\u001b[0;34m\u001b[0m\u001b[0m\n\u001b[1;32m      7\u001b[0m         \u001b[0;32mif\u001b[0m \u001b[0misinstance\u001b[0m\u001b[0;34m(\u001b[0m\u001b[0mv\u001b[0m\u001b[0;34m,\u001b[0m \u001b[0mcollections\u001b[0m\u001b[0;34m.\u001b[0m\u001b[0mMutableMapping\u001b[0m\u001b[0;34m)\u001b[0m\u001b[0;34m:\u001b[0m\u001b[0;34m\u001b[0m\u001b[0;34m\u001b[0m\u001b[0m\n",
      "\u001b[0;31mAttributeError\u001b[0m: 'list' object has no attribute 'items'"
     ]
    }
   ],
   "source": [
    "for key, config in overrides.items():\n",
    "    overrides[key] = flatten(config)\n",
    "results = pd.DataFrame(configs).append(scores.rename(\"score\")).T.sort_values(\"score\", ascending=False)\n",
    "results"
   ]
  },
  {
   "cell_type": "code",
   "execution_count": 26,
   "metadata": {},
   "outputs": [
    {
     "data": {
      "text/html": [
       "<div>\n",
       "<style scoped>\n",
       "    .dataframe tbody tr th:only-of-type {\n",
       "        vertical-align: middle;\n",
       "    }\n",
       "\n",
       "    .dataframe tbody tr th {\n",
       "        vertical-align: top;\n",
       "    }\n",
       "\n",
       "    .dataframe thead th {\n",
       "        text-align: right;\n",
       "    }\n",
       "</style>\n",
       "<table border=\"1\" class=\"dataframe\">\n",
       "  <thead>\n",
       "    <tr style=\"text-align: right;\">\n",
       "      <th></th>\n",
       "      <th>num_timesteps</th>\n",
       "      <th>device</th>\n",
       "      <th>seed</th>\n",
       "      <th>num_envs</th>\n",
       "      <th>log_frequency_step</th>\n",
       "      <th>log_save_tb</th>\n",
       "      <th>save_video</th>\n",
       "      <th>eval_frequency_step</th>\n",
       "      <th>num_eval_episodes</th>\n",
       "      <th>env_env_id</th>\n",
       "      <th>...</th>\n",
       "      <th>agent_algo_params_lr</th>\n",
       "      <th>agent_algo_params_gamma</th>\n",
       "      <th>agent_algo_params_value_loss_coef</th>\n",
       "      <th>agent_algo_params_entropy_coef</th>\n",
       "      <th>agent_algo_params_eps</th>\n",
       "      <th>agent_algo_params_alpha</th>\n",
       "      <th>agent_algo_params_max_grad_norm</th>\n",
       "      <th>agent_algo_params_use_timeout</th>\n",
       "      <th>agent_algo_params_optimizer_type</th>\n",
       "      <th>score</th>\n",
       "    </tr>\n",
       "  </thead>\n",
       "  <tbody>\n",
       "    <tr>\n",
       "      <th>0</th>\n",
       "      <td>5e+06</td>\n",
       "      <td>cuda:0</td>\n",
       "      <td>500000</td>\n",
       "      <td>6</td>\n",
       "      <td>100</td>\n",
       "      <td>True</td>\n",
       "      <td>True</td>\n",
       "      <td>5000</td>\n",
       "      <td>16</td>\n",
       "      <td>Mazelab-v0</td>\n",
       "      <td>...</td>\n",
       "      <td>0.001</td>\n",
       "      <td>0.99</td>\n",
       "      <td>0.5</td>\n",
       "      <td>0.01</td>\n",
       "      <td>1e-05</td>\n",
       "      <td>0.99</td>\n",
       "      <td>0.316228</td>\n",
       "      <td>True</td>\n",
       "      <td>adam</td>\n",
       "      <td>-0.56092</td>\n",
       "    </tr>\n",
       "    <tr>\n",
       "      <th>1</th>\n",
       "      <td>NaN</td>\n",
       "      <td>NaN</td>\n",
       "      <td>NaN</td>\n",
       "      <td>NaN</td>\n",
       "      <td>NaN</td>\n",
       "      <td>NaN</td>\n",
       "      <td>NaN</td>\n",
       "      <td>NaN</td>\n",
       "      <td>NaN</td>\n",
       "      <td>NaN</td>\n",
       "      <td>...</td>\n",
       "      <td>NaN</td>\n",
       "      <td>NaN</td>\n",
       "      <td>NaN</td>\n",
       "      <td>NaN</td>\n",
       "      <td>NaN</td>\n",
       "      <td>NaN</td>\n",
       "      <td>NaN</td>\n",
       "      <td>NaN</td>\n",
       "      <td>NaN</td>\n",
       "      <td>-2.55533</td>\n",
       "    </tr>\n",
       "  </tbody>\n",
       "</table>\n",
       "<p>2 rows × 45 columns</p>\n",
       "</div>"
      ],
      "text/plain": [
       "  num_timesteps  device    seed num_envs log_frequency_step log_save_tb  \\\n",
       "0         5e+06  cuda:0  500000        6                100        True   \n",
       "1           NaN     NaN     NaN      NaN                NaN         NaN   \n",
       "\n",
       "  save_video eval_frequency_step num_eval_episodes  env_env_id  ...  \\\n",
       "0       True                5000                16  Mazelab-v0  ...   \n",
       "1        NaN                 NaN               NaN         NaN  ...   \n",
       "\n",
       "  agent_algo_params_lr agent_algo_params_gamma  \\\n",
       "0                0.001                    0.99   \n",
       "1                  NaN                     NaN   \n",
       "\n",
       "  agent_algo_params_value_loss_coef agent_algo_params_entropy_coef  \\\n",
       "0                               0.5                           0.01   \n",
       "1                               NaN                            NaN   \n",
       "\n",
       "  agent_algo_params_eps agent_algo_params_alpha  \\\n",
       "0                 1e-05                    0.99   \n",
       "1                   NaN                     NaN   \n",
       "\n",
       "  agent_algo_params_max_grad_norm agent_algo_params_use_timeout  \\\n",
       "0                        0.316228                          True   \n",
       "1                             NaN                           NaN   \n",
       "\n",
       "  agent_algo_params_optimizer_type    score  \n",
       "0                             adam -0.56092  \n",
       "1                              NaN -2.55533  \n",
       "\n",
       "[2 rows x 45 columns]"
      ]
     },
     "execution_count": 26,
     "metadata": {},
     "output_type": "execute_result"
    }
   ],
   "source": [
    "for key, config in configs.items():\n",
    "    configs[key] = flatten(config)\n",
    "full_results = pd.DataFrame(configs).append(scores.rename(\"score\")).T.sort_values(\"score\", ascending=False)\n",
    "full_results"
   ]
  },
  {
   "cell_type": "code",
   "execution_count": null,
   "metadata": {},
   "outputs": [],
   "source": []
  },
  {
   "cell_type": "code",
   "execution_count": null,
   "metadata": {},
   "outputs": [],
   "source": []
  }
 ],
 "metadata": {
  "kernelspec": {
   "display_name": "Python 3",
   "language": "python",
   "name": "python3"
  },
  "language_info": {
   "codemirror_mode": {
    "name": "ipython",
    "version": 3
   },
   "file_extension": ".py",
   "mimetype": "text/x-python",
   "name": "python",
   "nbconvert_exporter": "python",
   "pygments_lexer": "ipython3",
   "version": "3.8.0"
  }
 },
 "nbformat": 4,
 "nbformat_minor": 4
}
