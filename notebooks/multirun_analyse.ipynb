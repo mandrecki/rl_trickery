{
 "cells": [
  {
   "cell_type": "code",
   "execution_count": 1,
   "metadata": {},
   "outputs": [],
   "source": [
    "import matplotlib.pyplot as plt\n",
    "import numpy as np\n",
    "import pandas as pd"
   ]
  },
  {
   "cell_type": "code",
   "execution_count": 2,
   "metadata": {},
   "outputs": [],
   "source": [
    "import seaborn as sns\n",
    "sns.set_style(\"whitegrid\")"
   ]
  },
  {
   "cell_type": "code",
   "execution_count": 3,
   "metadata": {},
   "outputs": [],
   "source": [
    "import os"
   ]
  },
  {
   "cell_type": "code",
   "execution_count": 4,
   "metadata": {},
   "outputs": [],
   "source": [
    "# DIR = \"../multirun/2020-06-07/20-51-14/\"\n",
    "DIR = \"/home/ira/code/projects/rl_trickery/multirun/2020-06-11/20-58-41////\"\n",
    "# DIR = \"/home/ira/code/projects/rl_trickery/runs/2020.06.11//\"\n",
    "\n",
    "# DIR = \"/home/ira/code/projects/rl_trickery/multirun/0_saved_experiments/low_recurse_depth_maze_13/\""
   ]
  },
  {
   "cell_type": "code",
   "execution_count": 5,
   "metadata": {},
   "outputs": [
    {
     "data": {
      "text/plain": [
       "['agent=a2c_2am_0', 'agent=a2c_2crnn_0']"
      ]
     },
     "execution_count": 5,
     "metadata": {},
     "output_type": "execute_result"
    }
   ],
   "source": [
    "runs = sorted(os.listdir(DIR))\n",
    "runs"
   ]
  },
  {
   "cell_type": "code",
   "execution_count": 6,
   "metadata": {},
   "outputs": [],
   "source": [
    "dfs = {}\n",
    "for run in runs:\n",
    "    f_eval = DIR + run + \"/eval.csv\"\n",
    "    f_train = DIR + run + \"/train.csv\"    \n",
    "    df_run = pd.read_csv(f_train)\n",
    "    dfs[run] = df_run"
   ]
  },
  {
   "cell_type": "code",
   "execution_count": null,
   "metadata": {
    "scrolled": false
   },
   "outputs": [],
   "source": [
    "ax = None\n",
    "\n",
    "target_vars = [\n",
    "    \"episode_reward\",\n",
    "    \"loss_entropy\",\n",
    "    \"act\",\n",
    "    \"fps\",\n",
    "    \"episode\",\n",
    "    \"value\",\n",
    "]\n",
    "\n",
    "for target_var in target_vars:\n",
    "    ax = None\n",
    "    for key, df in dfs.items():\n",
    "        if target_var in df.columns:\n",
    "            df = df.set_index(\"timestep\")[target_var]\n",
    "            df = df.rolling(10).mean()\n",
    "            ax = df.reset_index().plot(x=\"timestep\", y=target_var, label=key, ax=ax, figsize=(10,5))\n",
    "            plt.title(target_var)"
   ]
  },
  {
   "cell_type": "code",
   "execution_count": null,
   "metadata": {},
   "outputs": [],
   "source": []
  },
  {
   "cell_type": "code",
   "execution_count": null,
   "metadata": {},
   "outputs": [],
   "source": []
  },
  {
   "cell_type": "code",
   "execution_count": null,
   "metadata": {},
   "outputs": [],
   "source": []
  }
 ],
 "metadata": {
  "kernelspec": {
   "display_name": "Python 3",
   "language": "python",
   "name": "python3"
  },
  "language_info": {
   "codemirror_mode": {
    "name": "ipython",
    "version": 3
   },
   "file_extension": ".py",
   "mimetype": "text/x-python",
   "name": "python",
   "nbconvert_exporter": "python",
   "pygments_lexer": "ipython3",
   "version": "3.8.0"
  }
 },
 "nbformat": 4,
 "nbformat_minor": 4
}
