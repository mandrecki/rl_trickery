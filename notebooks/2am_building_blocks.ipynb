{
 "cells": [
  {
   "cell_type": "code",
   "execution_count": 1,
   "metadata": {},
   "outputs": [],
   "source": [
    "import torch\n",
    "import numpy as np"
   ]
  },
  {
   "cell_type": "code",
   "execution_count": 2,
   "metadata": {},
   "outputs": [],
   "source": [
    "action_n = 4\n",
    "action_cog_n = 2\n",
    "o_size = (3, 64, 64)"
   ]
  },
  {
   "cell_type": "code",
   "execution_count": 3,
   "metadata": {},
   "outputs": [],
   "source": [
    "batch_size = 2\n",
    "num_steps = 15"
   ]
  },
  {
   "cell_type": "code",
   "execution_count": 4,
   "metadata": {},
   "outputs": [],
   "source": [
    "obs = torch.randint(action_cog_n, (batch_size, num_steps, 1))"
   ]
  },
  {
   "cell_type": "code",
   "execution_count": 5,
   "metadata": {},
   "outputs": [],
   "source": [
    "a = torch.randint(action_n, (batch_size, num_steps, 1))\n",
    "\n",
    "dones = torch.zeros((batch_size, num_steps, 1))\n",
    "r = torch.rand((batch_size, num_steps, 1))\n",
    "\n",
    "values_guess = torch.rand((batch_size, num_steps, 1))\n",
    "\n"
   ]
  },
  {
   "cell_type": "code",
   "execution_count": 6,
   "metadata": {},
   "outputs": [],
   "source": [
    "a_cog = torch.randint(action_cog_n, (batch_size, num_steps, 1))\n"
   ]
  },
  {
   "cell_type": "code",
   "execution_count": 10,
   "metadata": {},
   "outputs": [
    {
     "data": {
      "text/plain": [
       "tensor([[[1],\n",
       "         [1],\n",
       "         [0],\n",
       "         [0],\n",
       "         [0],\n",
       "         [1],\n",
       "         [0],\n",
       "         [0],\n",
       "         [1],\n",
       "         [0],\n",
       "         [1],\n",
       "         [0],\n",
       "         [0],\n",
       "         [1],\n",
       "         [1]],\n",
       "\n",
       "        [[1],\n",
       "         [0],\n",
       "         [0],\n",
       "         [0],\n",
       "         [0],\n",
       "         [1],\n",
       "         [0],\n",
       "         [1],\n",
       "         [1],\n",
       "         [1],\n",
       "         [1],\n",
       "         [1],\n",
       "         [0],\n",
       "         [0],\n",
       "         [0]]])"
      ]
     },
     "execution_count": 10,
     "metadata": {},
     "output_type": "execute_result"
    }
   ],
   "source": [
    "a_cog"
   ]
  },
  {
   "cell_type": "code",
   "execution_count": 9,
   "metadata": {},
   "outputs": [
    {
     "data": {
      "text/plain": [
       "tensor([[[3],\n",
       "         [2],\n",
       "         [0],\n",
       "         [2],\n",
       "         [3],\n",
       "         [1],\n",
       "         [3],\n",
       "         [1],\n",
       "         [3],\n",
       "         [3],\n",
       "         [0],\n",
       "         [1],\n",
       "         [3],\n",
       "         [3],\n",
       "         [1]],\n",
       "\n",
       "        [[0],\n",
       "         [3],\n",
       "         [1],\n",
       "         [2],\n",
       "         [0],\n",
       "         [2],\n",
       "         [3],\n",
       "         [2],\n",
       "         [3],\n",
       "         [2],\n",
       "         [3],\n",
       "         [1],\n",
       "         [1],\n",
       "         [0],\n",
       "         [2]]])"
      ]
     },
     "execution_count": 9,
     "metadata": {},
     "output_type": "execute_result"
    }
   ],
   "source": [
    "a"
   ]
  },
  {
   "cell_type": "code",
   "execution_count": 11,
   "metadata": {},
   "outputs": [],
   "source": [
    "a[a_cog == 1] = 127"
   ]
  },
  {
   "cell_type": "code",
   "execution_count": 12,
   "metadata": {},
   "outputs": [
    {
     "data": {
      "text/plain": [
       "tensor([[[127],\n",
       "         [127],\n",
       "         [  0],\n",
       "         [  2],\n",
       "         [  3],\n",
       "         [127],\n",
       "         [  3],\n",
       "         [  1],\n",
       "         [127],\n",
       "         [  3],\n",
       "         [127],\n",
       "         [  1],\n",
       "         [  3],\n",
       "         [127],\n",
       "         [127]],\n",
       "\n",
       "        [[127],\n",
       "         [  3],\n",
       "         [  1],\n",
       "         [  2],\n",
       "         [  0],\n",
       "         [127],\n",
       "         [  3],\n",
       "         [127],\n",
       "         [127],\n",
       "         [127],\n",
       "         [127],\n",
       "         [127],\n",
       "         [  1],\n",
       "         [  0],\n",
       "         [  2]]])"
      ]
     },
     "execution_count": 12,
     "metadata": {},
     "output_type": "execute_result"
    }
   ],
   "source": [
    "a"
   ]
  },
  {
   "cell_type": "code",
   "execution_count": null,
   "metadata": {},
   "outputs": [],
   "source": [
    "a.shape"
   ]
  },
  {
   "cell_type": "code",
   "execution_count": null,
   "metadata": {},
   "outputs": [],
   "source": [
    "\n",
    "(1 - a_cog) * a - 5*a_cog"
   ]
  },
  {
   "cell_type": "code",
   "execution_count": null,
   "metadata": {},
   "outputs": [],
   "source": []
  },
  {
   "cell_type": "code",
   "execution_count": null,
   "metadata": {},
   "outputs": [],
   "source": []
  }
 ],
 "metadata": {
  "kernelspec": {
   "display_name": "Python 3",
   "language": "python",
   "name": "python3"
  },
  "language_info": {
   "codemirror_mode": {
    "name": "ipython",
    "version": 3
   },
   "file_extension": ".py",
   "mimetype": "text/x-python",
   "name": "python",
   "nbconvert_exporter": "python",
   "pygments_lexer": "ipython3",
   "version": "3.8.2"
  }
 },
 "nbformat": 4,
 "nbformat_minor": 4
}
