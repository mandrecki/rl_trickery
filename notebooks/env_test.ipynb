{
 "cells": [
  {
   "cell_type": "code",
   "execution_count": 1,
   "metadata": {},
   "outputs": [],
   "source": [
    "import matplotlib.pyplot as plt\n",
    "import numpy as np\n",
    "import torch\n",
    "import gym"
   ]
  },
  {
   "cell_type": "code",
   "execution_count": 2,
   "metadata": {},
   "outputs": [],
   "source": [
    "from hydra.experimental import compose, initialize\n",
    "initialize(\n",
    "    config_path=\"../configs\",\n",
    ")"
   ]
  },
  {
   "cell_type": "code",
   "execution_count": 3,
   "metadata": {},
   "outputs": [
    {
     "name": "stdout",
     "output_type": "stream",
     "text": [
      "pygame 1.9.6\n",
      "Hello from the pygame community. https://www.pygame.org/contribute.html\n",
      "couldn't import doomish\n",
      "Couldn't import doom\n"
     ]
    }
   ],
   "source": [
    "import rl_trickery.envs\n",
    "import rl_trickery.utils.utils as utils\n",
    "from rl_trickery.utils.logger import Logger\n",
    "from rl_trickery.utils.video import VideoRecorder\n",
    "from rl_trickery.envs import make_envs"
   ]
  },
  {
   "cell_type": "code",
   "execution_count": 4,
   "metadata": {},
   "outputs": [
    {
     "name": "stdout",
     "output_type": "stream",
     "text": [
      "num_timesteps: 100000.0\n",
      "device: cpu\n",
      "seed: 0\n",
      "num_envs: ${agent.num_envs}\n",
      "log_frequency_step: 1\n",
      "log_save_tb: true\n",
      "save_video: true\n",
      "eval_frequency_step: 50000.0\n",
      "num_eval_episodes: 8\n",
      "env:\n",
      "  env_id: LunarLander-v2\n",
      "  env_kwargs: {}\n",
      "  max_timesteps: 1000\n",
      "  obs_type: proprioceptive\n",
      "  image_size: 64\n",
      "  to_grayscale: false\n",
      "  episode_life: false\n",
      "  clip_rewards: false\n",
      "  augment: false\n",
      "  mind_pause: true\n",
      "  frame_stack: 1\n",
      "  frame_skip: 1\n",
      "  random_initial_steps: 0\n",
      "  pytorch_dim_order: true\n",
      "  device: ${device}\n",
      "agent:\n",
      "  name: a2c\n",
      "  num_envs: 16\n",
      "  network:\n",
      "    architecture: ff\n",
      "    state_channels: 32\n",
      "    hidden_size: 512\n",
      "  lr: 0.0007\n",
      "  gamma: 0.99\n",
      "  value_loss_coef: 0.5\n",
      "  entropy_coef: 0.01\n",
      "  num_steps: 5\n",
      "  eps: 1.0e-05\n",
      "  alpha: 0.99\n",
      "  max_grad_norm: 0.5\n",
      "  device: ${device}\n",
      "  use_gae: false\n",
      "  gae_lambda: 0.95\n",
      "  use_proper_time_limits: false\n",
      "\n"
     ]
    },
    {
     "name": "stderr",
     "output_type": "stream",
     "text": [
      "/home/ira/code/projects/rl_trickery/venv/lib/python3.8/site-packages/hydra/plugins/config_source.py:183: UserWarning: \n",
      "Missing @package directive agent/a2c.yaml in file:///home/ira/code/projects/rl_trickery/configs.\n",
      "See https://hydra.cc/docs/next/upgrades/0.11_to_1.0/adding_a_package_directive\n",
      "  warnings.warn(message=msg, category=UserWarning)\n"
     ]
    }
   ],
   "source": [
    "cfg = compose(\"simple.yaml\")\n",
    "print(cfg.pretty())"
   ]
  },
  {
   "cell_type": "code",
   "execution_count": 10,
   "metadata": {},
   "outputs": [],
   "source": [
    "env = make_envs(\n",
    "    **cfg.env,\n",
    "    seed=cfg.seed,\n",
    "    num_envs=cfg.num_envs,\n",
    ")"
   ]
  },
  {
   "cell_type": "code",
   "execution_count": 11,
   "metadata": {},
   "outputs": [
    {
     "data": {
      "text/plain": [
       "tensor([[-5.9156e-04,  1.4135e+00, -5.9936e-02,  1.1277e-01,  6.9229e-04,\n",
       "          1.3576e-02,  0.0000e+00,  0.0000e+00],\n",
       "        [-2.8522e-03,  1.4175e+00, -2.8892e-01,  2.9155e-01,  3.3118e-03,\n",
       "          6.5444e-02,  0.0000e+00,  0.0000e+00],\n",
       "        [ 2.8133e-04,  1.4192e+00,  2.8473e-02,  3.6885e-01, -3.1914e-04,\n",
       "         -6.4496e-03,  0.0000e+00,  0.0000e+00],\n",
       "        [-5.7126e-03,  1.4185e+00, -5.7864e-01,  3.3731e-01,  6.6263e-03,\n",
       "          1.3107e-01,  0.0000e+00,  0.0000e+00],\n",
       "        [-5.9028e-03,  1.4091e+00, -5.9790e-01, -7.9261e-02,  6.8466e-03,\n",
       "          1.3543e-01,  0.0000e+00,  0.0000e+00],\n",
       "        [-6.6540e-03,  1.4141e+00, -6.7400e-01,  1.3916e-01,  7.7172e-03,\n",
       "          1.5267e-01,  0.0000e+00,  0.0000e+00],\n",
       "        [ 7.3641e-03,  1.4198e+00,  7.4589e-01,  3.9278e-01, -8.5264e-03,\n",
       "         -1.6895e-01,  0.0000e+00,  0.0000e+00],\n",
       "        [ 5.0831e-03,  1.4094e+00,  5.1485e-01, -6.7960e-02, -5.8833e-03,\n",
       "         -1.1662e-01,  0.0000e+00,  0.0000e+00],\n",
       "        [-4.0585e-03,  1.4164e+00, -4.1109e-01,  2.4315e-01,  4.7094e-03,\n",
       "          9.3117e-02,  0.0000e+00,  0.0000e+00],\n",
       "        [-6.3437e-03,  1.4026e+00, -6.4258e-01, -3.6765e-01,  7.3577e-03,\n",
       "          1.4555e-01,  0.0000e+00,  0.0000e+00],\n",
       "        [ 1.7715e-03,  1.4081e+00,  1.7942e-01, -1.2677e-01, -2.0460e-03,\n",
       "         -4.0641e-02,  0.0000e+00,  0.0000e+00],\n",
       "        [ 4.4053e-03,  1.4136e+00,  4.4620e-01,  1.1893e-01, -5.0979e-03,\n",
       "         -1.0107e-01,  0.0000e+00,  0.0000e+00],\n",
       "        [-1.1431e-03,  1.4048e+00, -1.1580e-01, -2.7249e-01,  1.3314e-03,\n",
       "          2.6230e-02,  0.0000e+00,  0.0000e+00],\n",
       "        [-7.0201e-03,  1.4217e+00, -7.1108e-01,  4.7989e-01,  8.1414e-03,\n",
       "          1.6107e-01,  0.0000e+00,  0.0000e+00],\n",
       "        [-5.0206e-03,  1.4109e+00, -5.0855e-01, -1.6488e-03,  5.8245e-03,\n",
       "          1.1520e-01,  0.0000e+00,  0.0000e+00],\n",
       "        [ 1.4398e-03,  1.4190e+00,  1.4582e-01,  3.6042e-01, -1.6616e-03,\n",
       "         -3.3030e-02,  0.0000e+00,  0.0000e+00]])"
      ]
     },
     "execution_count": 11,
     "metadata": {},
     "output_type": "execute_result"
    }
   ],
   "source": [
    "env.reset()"
   ]
  },
  {
   "cell_type": "code",
   "execution_count": 7,
   "metadata": {},
   "outputs": [
    {
     "ename": "ValueError",
     "evalue": "axes don't match array",
     "output_type": "error",
     "traceback": [
      "\u001b[0;31m---------------------------------------------------------------------------\u001b[0m",
      "\u001b[0;31mValueError\u001b[0m                                Traceback (most recent call last)",
      "\u001b[0;32m<ipython-input-7-4d92bc5554c7>\u001b[0m in \u001b[0;36m<module>\u001b[0;34m\u001b[0m\n\u001b[1;32m      1\u001b[0m \u001b[0ms\u001b[0m \u001b[0;34m=\u001b[0m \u001b[0menv\u001b[0m\u001b[0;34m.\u001b[0m\u001b[0mreset\u001b[0m\u001b[0;34m(\u001b[0m\u001b[0;34m)\u001b[0m\u001b[0;34m\u001b[0m\u001b[0;34m\u001b[0m\u001b[0m\n\u001b[0;32m----> 2\u001b[0;31m \u001b[0mplt\u001b[0m\u001b[0;34m.\u001b[0m\u001b[0mimshow\u001b[0m\u001b[0;34m(\u001b[0m\u001b[0ms\u001b[0m\u001b[0;34m[\u001b[0m\u001b[0;36m0\u001b[0m\u001b[0;34m]\u001b[0m\u001b[0;34m.\u001b[0m\u001b[0mcpu\u001b[0m\u001b[0;34m(\u001b[0m\u001b[0;34m)\u001b[0m\u001b[0;34m.\u001b[0m\u001b[0mnumpy\u001b[0m\u001b[0;34m(\u001b[0m\u001b[0;34m)\u001b[0m\u001b[0;34m.\u001b[0m\u001b[0mtranspose\u001b[0m\u001b[0;34m(\u001b[0m\u001b[0;36m1\u001b[0m\u001b[0;34m,\u001b[0m \u001b[0;36m2\u001b[0m\u001b[0;34m,\u001b[0m \u001b[0;36m0\u001b[0m\u001b[0;34m)\u001b[0m\u001b[0;34m)\u001b[0m\u001b[0;34m\u001b[0m\u001b[0;34m\u001b[0m\u001b[0m\n\u001b[0m",
      "\u001b[0;31mValueError\u001b[0m: axes don't match array"
     ]
    }
   ],
   "source": [
    "s = env.reset()\n",
    "plt.imshow(s[0].cpu().numpy().transpose(1, 2, 0))"
   ]
  },
  {
   "cell_type": "code",
   "execution_count": 8,
   "metadata": {},
   "outputs": [
    {
     "data": {
      "text/plain": [
       "tensor([[-5.9156e-04,  1.4135e+00, -5.9936e-02,  1.1277e-01,  6.9229e-04,\n",
       "          1.3576e-02,  0.0000e+00,  0.0000e+00]])"
      ]
     },
     "execution_count": 8,
     "metadata": {},
     "output_type": "execute_result"
    }
   ],
   "source": [
    "s"
   ]
  },
  {
   "cell_type": "markdown",
   "metadata": {},
   "source": [
    "## Generate fixed mazes"
   ]
  },
  {
   "cell_type": "code",
   "execution_count": null,
   "metadata": {},
   "outputs": [],
   "source": [
    "import numpy as np"
   ]
  },
  {
   "cell_type": "code",
   "execution_count": null,
   "metadata": {},
   "outputs": [],
   "source": [
    "from rl_trickery.envs.maze import Maze"
   ]
  },
  {
   "cell_type": "code",
   "execution_count": null,
   "metadata": {},
   "outputs": [],
   "source": [
    "goal = np.unravel_index(np.argmin(m.board, axis=None), m.board.shape)"
   ]
  },
  {
   "cell_type": "code",
   "execution_count": null,
   "metadata": {},
   "outputs": [],
   "source": [
    "np.atleast_2d(goal)"
   ]
  },
  {
   "cell_type": "code",
   "execution_count": null,
   "metadata": {},
   "outputs": [],
   "source": [
    "%cd ../rl_trickery/envs/"
   ]
  },
  {
   "cell_type": "code",
   "execution_count": null,
   "metadata": {},
   "outputs": [],
   "source": [
    "for k in range(4, 65):\n",
    "    m  = Maze(\"maze\", k)\n",
    "    np.save(\"raw_maze_{}\".format(k), m.board)"
   ]
  },
  {
   "cell_type": "code",
   "execution_count": null,
   "metadata": {},
   "outputs": [],
   "source": []
  },
  {
   "cell_type": "code",
   "execution_count": null,
   "metadata": {},
   "outputs": [],
   "source": [
    "xxxx"
   ]
  },
  {
   "cell_type": "code",
   "execution_count": null,
   "metadata": {},
   "outputs": [],
   "source": [
    "import pkg_resources"
   ]
  },
  {
   "cell_type": "code",
   "execution_count": null,
   "metadata": {},
   "outputs": [],
   "source": [
    "np.load(pkg_resources.resource_filename(\"rl_trickery\", \"envs/mazes/raw_maze_12.npy\"))"
   ]
  }
 ],
 "metadata": {
  "kernelspec": {
   "display_name": "Python 3",
   "language": "python",
   "name": "python3"
  },
  "language_info": {
   "codemirror_mode": {
    "name": "ipython",
    "version": 3
   },
   "file_extension": ".py",
   "mimetype": "text/x-python",
   "name": "python",
   "nbconvert_exporter": "python",
   "pygments_lexer": "ipython3",
   "version": "3.8.2"
  }
 },
 "nbformat": 4,
 "nbformat_minor": 4
}
